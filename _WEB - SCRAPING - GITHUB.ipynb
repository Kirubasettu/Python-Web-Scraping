{
 "cells": [
  {
   "cell_type": "markdown",
   "id": "0e8541f0",
   "metadata": {},
   "source": [
    "# WEB - SCRAPING - GITHUB"
   ]
  },
  {
   "cell_type": "code",
   "execution_count": 28,
   "id": "ccb18351",
   "metadata": {},
   "outputs": [],
   "source": [
    "import os\n",
    "import requests\n",
    "import pandas as pd"
   ]
  },
  {
   "cell_type": "code",
   "execution_count": 11,
   "id": "7890999f",
   "metadata": {},
   "outputs": [
    {
     "name": "stdout",
     "output_type": "stream",
     "text": [
      "https://github.com/topics\n"
     ]
    }
   ],
   "source": [
    "topic_url = 'https://github.com/topics'\n",
    "print(topic_url)"
   ]
  },
  {
   "cell_type": "code",
   "execution_count": 12,
   "id": "28c9bb48",
   "metadata": {},
   "outputs": [
    {
     "data": {
      "text/plain": [
       "200"
      ]
     },
     "execution_count": 12,
     "metadata": {},
     "output_type": "execute_result"
    }
   ],
   "source": [
    "response = requests.get(topic_url)\n",
    "response.status_code"
   ]
  },
  {
   "cell_type": "code",
   "execution_count": 14,
   "id": "885144c1",
   "metadata": {},
   "outputs": [
    {
     "data": {
      "text/plain": [
       "'\\n\\n<!DOCTYPE html>\\n<html lang=\"en\" data-color-mode=\"auto\" data-light-theme=\"light\" data-dark-theme=\"dark\"  data-a11y-animated-images=\"system\" data-a11y-link-underlines=\"true\">\\n\\n\\n\\n  <head>\\n    <meta charset=\"utf-8\">\\n  <link rel=\"dns-prefetch\" href=\"https://github.githubassets.com\">\\n  <link rel=\"dns-prefetch\" href=\"https://avatars.githubusercontent.com\">\\n  <link rel=\"dns-prefetch\" href=\"https://github-cloud.s3.amazonaws.com\">\\n  <link rel=\"dns-prefetch\" href=\"https://user-images.githubusercontent.com/\">\\n  <link rel=\"preconnect\" href=\"https://github.githubassets.com\" crossorigin>\\n  <link rel=\"preconnect\" href=\"https://avatars.githubusercontent.com\">\\n\\n  \\n\\n  <link crossorigin=\"anonymous\" media=\"all\" rel=\"stylesheet\" href=\"https://github.githubassets.com/assets/light-b92e9647318f.css\" /><link crossorigin=\"anonymous\" media=\"all\" rel=\"stylesheet\" href=\"https://github.githubassets.com/assets/dark-5d486a4ede8e.css\" /><link data-color-theme=\"dark_dimmed\" crossorigin=\"anonymous\" media=\"all\" rel=\"sty'"
      ]
     },
     "execution_count": 14,
     "metadata": {},
     "output_type": "execute_result"
    }
   ],
   "source": [
    "page_contents = response.text\n",
    "page_contents[:1000]"
   ]
  },
  {
   "cell_type": "code",
   "execution_count": 15,
   "id": "b77e148b",
   "metadata": {},
   "outputs": [],
   "source": [
    "with open('webpage.html','w',encoding = 'utf-8') as f:\n",
    "    f.write(page_contents)"
   ]
  },
  {
   "cell_type": "code",
   "execution_count": 16,
   "id": "e1cc2d5f",
   "metadata": {},
   "outputs": [],
   "source": [
    "from bs4 import BeautifulSoup"
   ]
  },
  {
   "cell_type": "code",
   "execution_count": 17,
   "id": "5a6706e3",
   "metadata": {},
   "outputs": [],
   "source": [
    "doc = BeautifulSoup(page_contents,'html.parser')"
   ]
  },
  {
   "cell_type": "code",
   "execution_count": 18,
   "id": "57407f4c",
   "metadata": {},
   "outputs": [],
   "source": [
    "topic_title_tags = doc.find_all('p')"
   ]
  },
  {
   "cell_type": "code",
   "execution_count": 19,
   "id": "ef9b55ff",
   "metadata": {},
   "outputs": [],
   "source": [
    "select_class=\"f3 lh-condensed mb-0 mt-1 Link--primary\"\n",
    "topic_title_tags = doc.find_all('p',{'class': select_class})"
   ]
  },
  {
   "cell_type": "code",
   "execution_count": 21,
   "id": "a780d4cf",
   "metadata": {},
   "outputs": [],
   "source": [
    "desc_selector = 'f5 color-fg-muted mb-0 mt-1'\n",
    "topic_desc_tags = doc.find_all('p',{'class': desc_selector})"
   ]
  },
  {
   "cell_type": "code",
   "execution_count": 22,
   "id": "34b40606",
   "metadata": {},
   "outputs": [],
   "source": [
    "topic_link_tags = doc.find_all('a' ,{'class':'no-underline flex-1 d-flex flex-column'})"
   ]
  },
  {
   "cell_type": "code",
   "execution_count": 23,
   "id": "7ba2e043",
   "metadata": {},
   "outputs": [
    {
     "name": "stdout",
     "output_type": "stream",
     "text": [
      "https://github.com/topics/3d\n"
     ]
    }
   ],
   "source": [
    "topic0_url = \"https://github.com\" + topic_link_tags[0]['href']\n",
    "print(topic0_url)"
   ]
  },
  {
   "cell_type": "code",
   "execution_count": 29,
   "id": "4aaf09f3",
   "metadata": {},
   "outputs": [],
   "source": [
    "def get_topic_page(topic_url):\n",
    "    #Download the page\n",
    "    response = requests.get(topic_url)\n",
    "    #Check successful response\n",
    "    if response.status_code != 200:\n",
    "        raise Exception('Faild to load page {}'.format(topic_url))\n",
    "    # parse using BeautifulSoup\n",
    "    topic_doc = BeautifulSoup(response.text, 'html.parser')\n",
    "    #Get the h3 tags containg repo title, username and repo url\n",
    "    return topic_doc\n",
    "\n",
    "def get_repo_info(h3_tag):\n",
    "    a_tags = h3_tag.find_all('a')\n",
    "    username = a_tags[0].text.strip()\n",
    "    repo_name = a_tags[1].text.strip()\n",
    "    repo_url = base_url + a_tags[1]['href']\n",
    "    return username,repo_name,repo_url\n",
    "\n",
    "\n",
    "def get_topic_repos(topic_doc):\n",
    "    #Get the h3 tags containg repo title, username and repo url\n",
    "    h3_selection_class = 'f3 color-fg-muted text-normal lh-condensed'\n",
    "    repo_tags = topic_doc.find_all('h3',{'class': h3_selection_class})\n",
    "    \n",
    "    topic_repos_dict = {\n",
    "        'username' : [],\n",
    "         'repo_name' : [],\n",
    "         'repo_url' : [],\n",
    "    }\n",
    "     #Get repo info\n",
    "    for i in range(len(repo_tags)):\n",
    "            repo_info = get_repo_info(repo_tags[i])\n",
    "            topic_repos_dict['username'].append(repo_info[0])\n",
    "            topic_repos_dict['repo_name'].append(repo_info[1])\n",
    "            topic_repos_dict['repo_url'].append(repo_info[2])\n",
    "            \n",
    "    return pd.DataFrame(topic_repos_dict) \n",
    "\n",
    "def scrape_topic(topic_url , path):\n",
    "    if os.path.exists(path):\n",
    "        print('The file {} already exists.skipping ...'.format(path))\n",
    "        return\n",
    "    topic_df = get_topic_repos(get_topic_page(topic_url))\n",
    "    topic_df.to_csv(path ,index = None)"
   ]
  },
  {
   "cell_type": "code",
   "execution_count": 30,
   "id": "6c8f07aa",
   "metadata": {},
   "outputs": [],
   "source": [
    "def get_topic_titles(doc):\n",
    "    select_class=\"f3 lh-condensed mb-0 mt-1 Link--primary\"\n",
    "    topic_title_tags = doc.find_all('p',{'class': select_class})\n",
    "    topic_titles = []\n",
    "    for tag in topic_title_tags:\n",
    "            topic_titles.append(tag.text)\n",
    "    return topic_titles\n",
    "\n",
    "\n",
    "def get_topic_descs(doc):\n",
    "    desc_selector = 'f5 color-fg-muted mb-0 mt-1'\n",
    "    topic_desc_tags = doc.find_all('p',{'class': desc_selector})\n",
    "    topic_descs = []\n",
    "    for tag in topic_desc_tags:\n",
    "            topic_descs.append(tag.text.strip())\n",
    "    return topic_descs\n",
    "\n",
    "def get_topic_urls(doc):\n",
    "    topic_link_tags = doc.find_all('a' ,{'class':'no-underline flex-1 d-flex flex-column'})\n",
    "    topic_urls = []\n",
    "    base_url = 'https://github.com'\n",
    "    for tag in topic_link_tags:\n",
    "        topic_urls.append(base_url + tag['href'])\n",
    "    return topic_urls  \n",
    "\n",
    "def scrape_topics():\n",
    "    topic_url = 'https://github.com/topics'\n",
    "    response = requests.get(topic_url)\n",
    "    if response.status_code != 200:\n",
    "        raise Exception('Faild to load page {}'.format(topic_url))\n",
    "    topics_dict = {\n",
    "        'title' : get_topic_titles(doc),\n",
    "        'description' : get_topic_descs(doc),\n",
    "        'url' : get_topic_urls(doc)\n",
    "    }    \n",
    "    return pd.DataFrame(topics_dict)"
   ]
  },
  {
   "cell_type": "code",
   "execution_count": 31,
   "id": "de55d7ea",
   "metadata": {},
   "outputs": [],
   "source": [
    "def scrape_topics_repos():\n",
    "    print('scraping list of topics')\n",
    "    topics_df = scrape_topics()\n",
    "    os.makedirs('data',exist_ok=True)\n",
    "    for index, row in topics_df.iterrows():\n",
    "        print('scraping top repositories for \"{}\"'.format(row['title']))\n",
    "        scrape_topic(row['url'], 'data/{}.csv'.format(row['title']))\n",
    "        "
   ]
  },
  {
   "cell_type": "code",
   "execution_count": 32,
   "id": "eb7d6d34",
   "metadata": {},
   "outputs": [
    {
     "name": "stdout",
     "output_type": "stream",
     "text": [
      "scraping list of topics\n",
      "scraping top repositories for \"3D\"\n",
      "The file data/3D.csv already exists.skipping ...\n",
      "scraping top repositories for \"Ajax\"\n",
      "The file data/Ajax.csv already exists.skipping ...\n",
      "scraping top repositories for \"Algorithm\"\n",
      "The file data/Algorithm.csv already exists.skipping ...\n",
      "scraping top repositories for \"Amp\"\n",
      "The file data/Amp.csv already exists.skipping ...\n",
      "scraping top repositories for \"Android\"\n",
      "The file data/Android.csv already exists.skipping ...\n",
      "scraping top repositories for \"Angular\"\n",
      "The file data/Angular.csv already exists.skipping ...\n",
      "scraping top repositories for \"Ansible\"\n",
      "The file data/Ansible.csv already exists.skipping ...\n",
      "scraping top repositories for \"API\"\n",
      "The file data/API.csv already exists.skipping ...\n",
      "scraping top repositories for \"Arduino\"\n",
      "The file data/Arduino.csv already exists.skipping ...\n",
      "scraping top repositories for \"ASP.NET\"\n",
      "The file data/ASP.NET.csv already exists.skipping ...\n",
      "scraping top repositories for \"Atom\"\n",
      "The file data/Atom.csv already exists.skipping ...\n",
      "scraping top repositories for \"Awesome Lists\"\n",
      "The file data/Awesome Lists.csv already exists.skipping ...\n",
      "scraping top repositories for \"Amazon Web Services\"\n",
      "The file data/Amazon Web Services.csv already exists.skipping ...\n",
      "scraping top repositories for \"Azure\"\n",
      "The file data/Azure.csv already exists.skipping ...\n",
      "scraping top repositories for \"Babel\"\n",
      "The file data/Babel.csv already exists.skipping ...\n",
      "scraping top repositories for \"Bash\"\n",
      "The file data/Bash.csv already exists.skipping ...\n",
      "scraping top repositories for \"Bitcoin\"\n",
      "The file data/Bitcoin.csv already exists.skipping ...\n",
      "scraping top repositories for \"Bootstrap\"\n",
      "The file data/Bootstrap.csv already exists.skipping ...\n",
      "scraping top repositories for \"Bot\"\n",
      "The file data/Bot.csv already exists.skipping ...\n",
      "scraping top repositories for \"C\"\n",
      "The file data/C.csv already exists.skipping ...\n",
      "scraping top repositories for \"Chrome\"\n",
      "The file data/Chrome.csv already exists.skipping ...\n",
      "scraping top repositories for \"Chrome extension\"\n",
      "The file data/Chrome extension.csv already exists.skipping ...\n",
      "scraping top repositories for \"Command line interface\"\n",
      "The file data/Command line interface.csv already exists.skipping ...\n",
      "scraping top repositories for \"Clojure\"\n",
      "The file data/Clojure.csv already exists.skipping ...\n",
      "scraping top repositories for \"Code quality\"\n",
      "The file data/Code quality.csv already exists.skipping ...\n",
      "scraping top repositories for \"Code review\"\n",
      "The file data/Code review.csv already exists.skipping ...\n",
      "scraping top repositories for \"Compiler\"\n",
      "The file data/Compiler.csv already exists.skipping ...\n",
      "scraping top repositories for \"Continuous integration\"\n",
      "The file data/Continuous integration.csv already exists.skipping ...\n",
      "scraping top repositories for \"COVID-19\"\n",
      "The file data/COVID-19.csv already exists.skipping ...\n",
      "scraping top repositories for \"C++\"\n",
      "The file data/C++.csv already exists.skipping ...\n"
     ]
    }
   ],
   "source": [
    "scrape_topics_repos()"
   ]
  },
  {
   "cell_type": "code",
   "execution_count": null,
   "id": "39c8e4c0",
   "metadata": {},
   "outputs": [],
   "source": []
  }
 ],
 "metadata": {
  "kernelspec": {
   "display_name": "Python 3 (ipykernel)",
   "language": "python",
   "name": "python3"
  },
  "language_info": {
   "codemirror_mode": {
    "name": "ipython",
    "version": 3
   },
   "file_extension": ".py",
   "mimetype": "text/x-python",
   "name": "python",
   "nbconvert_exporter": "python",
   "pygments_lexer": "ipython3",
   "version": "3.10.9"
  }
 },
 "nbformat": 4,
 "nbformat_minor": 5
}
